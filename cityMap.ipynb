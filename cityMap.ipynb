{
 "cells": [
  {
   "cell_type": "code",
   "execution_count": 1,
   "metadata": {},
   "outputs": [
    {
     "name": "stderr",
     "output_type": "stream",
     "text": [
      "/Users/lpk/anaconda3/lib/python3.7/site-packages/ipykernel_launcher.py:30: DeprecationWarning: Using Nominatim with the default \"geopy/1.20.0\" `user_agent` is strongly discouraged, as it violates Nominatim's ToS https://operations.osmfoundation.org/policies/nominatim/ and may possibly cause 403 and 429 HTTP errors. Please specify a custom `user_agent` with `Nominatim(user_agent=\"my-application\")` or by overriding the default `user_agent`: `geopy.geocoders.options.default_user_agent = \"my-application\"`. In geopy 2.0 this will become an exception.\n"
     ]
    },
    {
     "data": {
      "text/plain": [
       "<Figure size 2000x2300 with 1 Axes>"
      ]
     },
     "metadata": {},
     "output_type": "display_data"
    }
   ],
   "source": [
    "import os\n",
    "import conda\n",
    "\n",
    "conda_file_dir = conda.__file__\n",
    "conda_dir = conda_file_dir.split('lib')[0]\n",
    "proj_lib = os.path.join(os.path.join(conda_dir, 'share'), 'proj')\n",
    "os.environ[\"PROJ_LIB\"] = proj_lib\n",
    "from mpl_toolkits.basemap import Basemap\n",
    "from geopy.geocoders import Nominatim\n",
    "import matplotlib.pyplot as plt\n",
    "plt.figure(figsize=(20,23))\n",
    "m = Basemap(projection='mill',\n",
    "            llcrnrlat = 25,\n",
    "            llcrnrlon = -130,\n",
    "            urcrnrlat = 50,\n",
    "            urcrnrlon = -60,\n",
    "            resolution='l')\n",
    "\n",
    "m.drawcoastlines()\n",
    "m.drawcountries(linewidth=2)\n",
    "m.drawstates(color='b')\n",
    "\n",
    "cities = ['Seattle','San Francisco','Los Angeles',\n",
    "                   'San Diego',\n",
    "                   'Boston',\n",
    "                   'New York City',\n",
    "                   'Washington DC']\n",
    "\n",
    "# Get the location of each city and plot it\n",
    "geolocator = Nominatim()\n",
    "for city in cities:\n",
    "    loc = geolocator.geocode(city)\n",
    "    x, y = m(loc.longitude, loc.latitude)\n",
    "    m.plot(x, y, 'r*', markersize=15)\n",
    "    plt.text(x+3000, y, city,fontsize=30)\n",
    "\n",
    "plt.savefig('citymap')\n",
    "plt.show()"
   ]
  },
  {
   "cell_type": "code",
   "execution_count": null,
   "metadata": {},
   "outputs": [],
   "source": []
  }
 ],
 "metadata": {
  "kernelspec": {
   "display_name": "Python 3",
   "language": "python",
   "name": "python3"
  },
  "language_info": {
   "codemirror_mode": {
    "name": "ipython",
    "version": 3
   },
   "file_extension": ".py",
   "mimetype": "text/x-python",
   "name": "python",
   "nbconvert_exporter": "python",
   "pygments_lexer": "ipython3",
   "version": "3.7.1"
  }
 },
 "nbformat": 4,
 "nbformat_minor": 2
}
